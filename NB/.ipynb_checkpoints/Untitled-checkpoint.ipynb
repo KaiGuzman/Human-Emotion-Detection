{
 "cells": [
  {
   "cell_type": "code",
   "execution_count": 13,
   "metadata": {
    "collapsed": true
   },
   "outputs": [],
   "source": [
    "import numpy as np\n",
    "import pandas as pd\n",
    "import os\n",
    "from sklearn.model_selection import KFold\n",
    "from sklearn.naive_bayes import GaussianNB\n",
    "from random import shuffle"
   ]
  },
  {
   "cell_type": "code",
   "execution_count": 14,
   "metadata": {
    "collapsed": true
   },
   "outputs": [],
   "source": [
    "def mmi():\n",
    "    \"\"\"\n",
    "    Load mmi data\n",
    "    \"\"\"\n",
    "\n",
    "    data = pd.read_csv('C:/Users/tirthshah.tirth/Dropbox/575 project/Models/MMI_Vid/Dataset/new-mmi-video-CSV-diff-normalized-slim.csv', header=None)\n",
    "    train_y = []\n",
    "    train_x = []\n",
    "    val_x = []\n",
    "    val_y = []\n",
    "    test_x = []\n",
    "    test_y = []\n",
    "    data = data.sample(frac=1)\n",
    "    no_of_samples = len(data)\n",
    "    no_of_train_samples = int(0.8 * no_of_samples)\n",
    "    no_of_test_samples = no_of_samples - no_of_train_samples\n",
    "    train_X = data.iloc[0: no_of_train_samples, 1:]\n",
    "    test_X = data.iloc[-no_of_test_samples:, 1:]\n",
    "    \n",
    "    train_Y = data[0: no_of_train_samples][[0]]\n",
    "    test_Y = data[-no_of_test_samples:][[0]]\n",
    "\n",
    "    train_x = np.asarray(train_X)\n",
    "    test_x = np.asarray(test_X)\n",
    "    train_y = np.asarray(train_Y)\n",
    "    test_y = np.asarray(test_Y)\n",
    "\n",
    "    return (train_x, train_y), (test_x, test_y)"
   ]
  },
  {
   "cell_type": "code",
   "execution_count": 15,
   "metadata": {
    "collapsed": true
   },
   "outputs": [],
   "source": [
    "def PCA_dim_red(train_x,test_x,var):\n",
    "    # Dimensionality Reduction\n",
    "    m = train_x.shape[0]\n",
    "    n = train_x.shape[1]\n",
    "    Mu = np.mean(train_x, axis=0)\n",
    "    print(Mu.shape)\n",
    "    train_x = train_x - Mu\n",
    "\n",
    "    Sigma = (train_x.T).dot(train_x) / (m - 1)\n",
    "    U, S, V = np.linalg.svd(Sigma)\n",
    "\n",
    "    # first 253 components maintain 95% variance\n",
    "    # first 881 components maintain 99% variance\n",
    "    tr = 0\n",
    "    k=1\n",
    "    while tr < var:\n",
    "        tr = np.sum(S[:k])/np.sum(S)\n",
    "        k+=1\n",
    "    print('Using k = '+str(k)+', '+str(tr)+' of the variance was retained')\n",
    "    V = V[:,:k]\n",
    "    Train_x = train_x.dot(V)\n",
    "    Test_x = test_x.dot(V)\n",
    "    return Train_x,Test_x"
   ]
  },
  {
   "cell_type": "code",
   "execution_count": 19,
   "metadata": {},
   "outputs": [
    {
     "name": "stdout",
     "output_type": "stream",
     "text": [
      "(6912,)\n",
      "Using k = 298, 0.9500575591645074 of the variance was retained\n"
     ]
    },
    {
     "name": "stderr",
     "output_type": "stream",
     "text": [
      "C:\\Users\\tirthshah.tirth\\Anaconda3\\lib\\site-packages\\sklearn\\utils\\validation.py:578: DataConversionWarning: A column-vector y was passed when a 1d array was expected. Please change the shape of y to (n_samples, ), for example using ravel().\n",
      "  y = column_or_1d(y, warn=True)\n"
     ]
    },
    {
     "name": "stdout",
     "output_type": "stream",
     "text": [
      "0.6705614177489179\n",
      "0.5550387596899224\n",
      "1.0\n",
      "[1 1 0 1 1 1 1 5 5 1 1 5 1 1 1 4 5 1 0 5 1 1 0 1 5 5 2 1 1 1 0 1 1 1 0 5 1\n",
      " 1 1 5 1 1 4 4 2 4 1 5 1 2 4 5 5 1 0 0 1 1 1 1 4 1 5 5 1 1 1 4 5 1 1 1 5 1\n",
      " 1 5 1 5 1 1 1 4 1 1 1 1 0 1 5 1 1 0 1 1 4 5 1 0 1 1 5 1 5 1 5 5 5]\n",
      "29.906542056074763\n"
     ]
    }
   ],
   "source": [
    "gnb = GaussianNB()\n",
    "loo = KFold(n_splits=10)\n",
    "val_store = []\n",
    "val_pred_Arr = []\n",
    "val_Acc = []\n",
    "train_Acc = []\n",
    "(train_x, train_y), (test_x, test_y) = mmi()\n",
    "train_x, test_x = PCA_dim_red(train_x, test_x, 0.95)\n",
    "for train_index, val_index in loo.split(train_x):\n",
    "    x_train, x_val = train_x[train_index], train_x[val_index]\n",
    "    y_train, y_val = train_y[train_index], train_y[val_index]\n",
    "    val_pred = gnb.fit(x_train,y_train).predict(x_val)\n",
    "    train_pred = gnb.fit(x_train,y_train).predict(x_train)\n",
    "    count_train = 0\n",
    "    for i in range(len(y_train)):\n",
    "        if(y_train[i]==train_pred[i]):\n",
    "            count_train+=1\n",
    "        else:\n",
    "            continue\n",
    "    count_train=count_train/len(y_train)\n",
    "    train_Acc.append(count_train)\n",
    "    #val_store.append(y_val)\n",
    "    count_val = 0\n",
    "    for i in range(len(y_val)):\n",
    "        if (y_val[i]==val_pred[i]):\n",
    "            count_val+=1\n",
    "        else:\n",
    "            continue\n",
    "    count_val = count_val/len(y_val)\n",
    "    val_Acc.append(count_val)\n",
    "train_Acc = np.mean(train_Acc)\n",
    "print(train_Acc)\n",
    "val_Acc = np.mean(val_Acc)\n",
    "print(val_Acc)\n",
    "    #val_pred_Arr.append(val_pred)\n",
    "#val_store = np.ravel(val_store)\n",
    "#val_pred_Arr = np.ravel(val_pred_Arr)\n",
    "\n",
    "count1 = 0\n",
    "#validation accuracy\n",
    "val_accuracy = np.mean(val_store == val_pred_Arr)\n",
    "print(val_accuracy)\n",
    "        \n",
    "\n",
    "#testing\n",
    "y_pred = gnb.predict(test_x)\n",
    "print(y_pred)\n",
    "#accuracy\n",
    "count = 0\n",
    "for i in range(len(test_y)):\n",
    "    if y_pred[i] == test_y[i]:\n",
    "        count+=1\n",
    "    else:\n",
    "        continue\n",
    "accuracy = (count/len(test_y)) *100\n",
    "print(accuracy)"
   ]
  },
  {
   "cell_type": "code",
   "execution_count": null,
   "metadata": {
    "collapsed": true
   },
   "outputs": [],
   "source": []
  }
 ],
 "metadata": {
  "kernelspec": {
   "display_name": "Python 3",
   "language": "python",
   "name": "python3"
  },
  "language_info": {
   "codemirror_mode": {
    "name": "ipython",
    "version": 3
   },
   "file_extension": ".py",
   "mimetype": "text/x-python",
   "name": "python",
   "nbconvert_exporter": "python",
   "pygments_lexer": "ipython3",
   "version": "3.6.3"
  }
 },
 "nbformat": 4,
 "nbformat_minor": 2
}
