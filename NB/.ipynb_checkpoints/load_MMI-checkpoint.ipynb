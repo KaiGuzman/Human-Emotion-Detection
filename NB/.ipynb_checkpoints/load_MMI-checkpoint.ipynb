{
 "cells": [
  {
   "cell_type": "code",
   "execution_count": 18,
   "metadata": {
    "collapsed": true
   },
   "outputs": [],
   "source": [
    "import numpy as np\n",
    "import pandas as pd\n",
    "import os\n",
    "from sklearn.model_selection import LeaveOneOut\n",
    "from sklearn.naive_bayes import GaussianNB"
   ]
  },
  {
   "cell_type": "code",
   "execution_count": 14,
   "metadata": {},
   "outputs": [],
   "source": [
    "def mmi():\n",
    "    \"\"\"\n",
    "    Load mmi data\n",
    "    \"\"\"\n",
    "\n",
    "    data = pd.read_csv('../Dataset/MMI_OHE.csv', header=None)\n",
    "    train_y = []\n",
    "    train_x = []\n",
    "    val_x = []\n",
    "    val_y = []\n",
    "    test_x = []\n",
    "    test_y = []\n",
    "\n",
    "    no_of_samples = len(data)\n",
    "    no_of_train_samples = int(0.8 * no_of_samples)\n",
    "    no_of_test_samples = no_of_samples - no_of_train_samples\n",
    "\n",
    "    train_X = data.iloc[1: no_of_train_samples, 1:]\n",
    "    test_X = data.iloc[-no_of_test_samples:, 1:]\n",
    "\n",
    "    train_Y = data[1: no_of_train_samples][[0]]\n",
    "    test_Y = data[-no_of_test_samples:][[0]]\n",
    "\n",
    "    train_x = np.asarray(train_X)\n",
    "    test_x = np.asarray(test_X)\n",
    "    train_y = np.asarray(train_Y)\n",
    "    test_y = np.asarray(test_Y)\n",
    "\n",
    "    return (train_x, train_y), (test_x, test_y)"
   ]
  },
  {
   "cell_type": "code",
   "execution_count": 20,
   "metadata": {},
   "outputs": [
    {
     "name": "stderr",
     "output_type": "stream",
     "text": [
      "C:\\Users\\tirthshah.tirth\\Anaconda3\\lib\\site-packages\\sklearn\\utils\\validation.py:578: DataConversionWarning: A column-vector y was passed when a 1d array was expected. Please change the shape of y to (n_samples, ), for example using ravel().\n",
      "  y = column_or_1d(y, warn=True)\n"
     ]
    },
    {
     "name": "stdout",
     "output_type": "stream",
     "text": [
      "0.6129032258064516\n",
      "['7' '7' '7' '5' '7' '7' '5' '5' '4' '4' '4' '5' '3' '5' '5' '6' '3' '6'\n",
      " '1' '5' '5' '1' '3' '4' '4' '4' '5' '5' '1' '4' '6' '4' '4' '4' '4' '4'\n",
      " '3' '4' '2']\n",
      "58.97435897435898\n"
     ]
    }
   ],
   "source": [
    "gnb = GaussianNB()\n",
    "loo = LeaveOneOut()\n",
    "val_store = []\n",
    "val_pred_Arr = []\n",
    "(train_x, train_y), (test_x, test_y) = mmi()\n",
    "for train_index, val_index in loo.split(train_x):\n",
    "    x_train, x_val = train_x[train_index], train_x[val_index]\n",
    "    y_train, y_val = train_y[train_index], train_y[val_index]\n",
    "    val_pred = gnb.fit(x_train,y_train).predict(x_val)\n",
    "    val_store.append(y_val)\n",
    "    val_pred_Arr.append(val_pred)\n",
    "val_store = np.ravel(val_store)\n",
    "val_pred_Arr = np.ravel(val_pred_Arr)\n",
    "\n",
    "count1 = 0\n",
    "#validation accuracy\n",
    "val_accuracy = np.mean(val_store == val_pred_Arr)\n",
    "print(val_accuracy)\n",
    "        \n",
    "\n",
    "#testing\n",
    "y_pred = gnb.predict(test_x)\n",
    "print(y_pred)\n",
    "#accuracy\n",
    "count = 0\n",
    "for i in range(len(test_y)):\n",
    "    if y_pred[i] == test_y[i]:\n",
    "        count+=1\n",
    "    else:\n",
    "        continue\n",
    "accuracy = (count/len(test_y)) *100\n",
    "print(accuracy)"
   ]
  },
  {
   "cell_type": "code",
   "execution_count": null,
   "metadata": {
    "collapsed": true
   },
   "outputs": [],
   "source": []
  }
 ],
 "metadata": {
  "kernelspec": {
   "display_name": "Python 3",
   "language": "python",
   "name": "python3"
  },
  "language_info": {
   "codemirror_mode": {
    "name": "ipython",
    "version": 3
   },
   "file_extension": ".py",
   "mimetype": "text/x-python",
   "name": "python",
   "nbconvert_exporter": "python",
   "pygments_lexer": "ipython3",
   "version": "3.6.3"
  }
 },
 "nbformat": 4,
 "nbformat_minor": 2
}
