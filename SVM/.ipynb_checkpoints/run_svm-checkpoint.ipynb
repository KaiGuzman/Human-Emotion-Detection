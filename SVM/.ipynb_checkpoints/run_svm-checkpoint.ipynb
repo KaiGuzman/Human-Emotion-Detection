{
 "cells": [
  {
   "cell_type": "code",
   "execution_count": 2,
   "metadata": {},
   "outputs": [],
   "source": [
    "import sklearn .svm\n",
    "import numpy as np\n",
    "from load_MMI import mmi\n",
    "from PCA import PCA_dim_red\n",
    "import numpy as np\n",
    "import scipy\n",
    "import os\n",
    "from sklearn.model_selection import LeaveOneOut\n",
    "from sklearn.model_selection import GridSearchCV"
   ]
  },
  {
   "cell_type": "code",
   "execution_count": 26,
   "metadata": {},
   "outputs": [
    {
     "name": "stdout",
     "output_type": "stream",
     "text": [
      "Importing data\n",
      "Imported data, initiating training\n"
     ]
    },
    {
     "name": "stderr",
     "output_type": "stream",
     "text": [
      "C:\\Users\\tithi\\Anaconda2\\envs\\env36\\lib\\site-packages\\sklearn\\utils\\validation.py:547: DataConversionWarning: A column-vector y was passed when a 1d array was expected. Please change the shape of y to (n_samples, ), for example using ravel().\n",
      "  y = column_or_1d(y, warn=True)\n"
     ]
    },
    {
     "name": "stdout",
     "output_type": "stream",
     "text": [
      "---------------------------- SVM Polynomial----------------------------------------------\n",
      "Accuracy : 0.7958115183246073\n",
      "---------------------------- SVM Gaussian-------------------------------------------------\n",
      "Accuracy : 0.8010471204188482\n",
      "Using k = 26, 0.9911537131557808 of the variance was retained\n",
      "------------------------- SVM Polynomial with PCA----------------------------------------------\n",
      "Accuracy : 0.7958115183246073\n",
      "--------------------------SVM Gaussian with PCA-------------------------------------------------\n",
      "Accuracy : 0.806282722513089\n"
     ]
    }
   ],
   "source": [
    "#Importing Data\n",
    "print(\"Importing data\")\n",
    "(train_x, train_y) = mmi()\n",
    "print(\"Imported data, initiating training\")\n",
    "train_x = train_x[1:]\n",
    "train_y = train_y[1:]\n",
    "\n",
    "loo = LeaveOneOut()\n",
    "\n",
    "vals_y = []\n",
    "Poly_preds_y = []\n",
    "Gaussian_preds_y = []\n",
    "\n",
    "SVM1 = sklearn.svm.SVC(C=5.0, kernel='poly', coef0=1.0)\n",
    "SVM2 = sklearn.svm.SVC(C=20.0, kernel='rbf')\n",
    "\n",
    "\n",
    "for train_idx, val_idx in loo.split(train_x):\n",
    "    X_train, X_val = train_x[train_idx], train_x[val_idx]\n",
    "    y_train, y_val = train_y[train_idx], train_y[val_idx]\n",
    "    \n",
    "    SVM1.fit(X_train, y_train)\n",
    "    SVM2.fit(X_train, np.ravel(y_train))\n",
    "    Poly_pred_y = SVM1.predict(X_val)\n",
    "    Gaussian_pred_y = SVM2.predict(X_val)    \n",
    "        \n",
    "    vals_y.append(list(y_val))\n",
    "    Poly_preds_y.append(list(Poly_pred_y))\n",
    "    Gaussian_preds_y.append(list(Gaussian_pred_y))\n",
    "\n",
    "vals_y = np.ravel(vals_y)\n",
    "Poly_preds_y = np.ravel(Poly_preds_y)\n",
    "Gaussian_preds_y = np.ravel(Gaussian_preds_y)\n",
    "\n",
    "print('---------------------------- SVM Polynomial----------------------------------------------')\n",
    "p_accuracy = np.mean(Poly_preds_y == vals_y)\n",
    "print(\"Accuracy : \" + str(p_accuracy))\n",
    "\n",
    "# preds_ty = np.ravel(SVM1.predict(test_x))\n",
    "# test_accuracy = np.mean(preds_ty == test_y)\n",
    "# print(\"SVM test accuracy : \" + str(test_accuracy))\n",
    "\n",
    "print('---------------------------- SVM Gaussian-------------------------------------------------')\n",
    "g_accuracy = np.mean(Gaussian_preds_y == vals_y)\n",
    "print(\"Accuracy : \" + str(g_accuracy))\n",
    "\n",
    "# preds_ty = np.ravel(SVM2.predict(test_x))\n",
    "# test_accuracy = np.mean(preds_ty == test_y)\n",
    "# print(\"SVM test accuracy : \" + str(test_accuracy))\n",
    "\n",
    "########### PCA ###################################################################\n",
    "train_x= PCA_dim_red(train_x, 0.99)\n",
    "loo = LeaveOneOut()\n",
    "\n",
    "vals_y = []\n",
    "Poly_preds_y = []\n",
    "Gaussian_preds_y = []\n",
    "\n",
    "SVM1 = sklearn.svm.SVC(C=5.0, kernel='poly', coef0=1.0)\n",
    "SVM2 = sklearn.svm.SVC(C=5.0, kernel='rbf')\n",
    "\n",
    "\n",
    "for train_idx, val_idx in loo.split(train_x):\n",
    "    X_train, X_val = train_x[train_idx], train_x[val_idx]\n",
    "    y_train, y_val = train_y[train_idx], train_y[val_idx]\n",
    "    \n",
    "    SVM1.fit(X_train, y_train)\n",
    "    SVM2.fit(X_train, np.ravel(y_train))\n",
    "    Poly_pred_y = SVM1.predict(X_val)\n",
    "    Gaussian_pred_y = SVM2.predict(X_val)    \n",
    "        \n",
    "    vals_y.append(list(y_val))\n",
    "    Poly_preds_y.append(list(Poly_pred_y))\n",
    "    Gaussian_preds_y.append(list(Gaussian_pred_y))\n",
    "\n",
    "vals_y = np.ravel(vals_y)\n",
    "Poly_preds_y = np.ravel(Poly_preds_y)\n",
    "Gaussian_preds_y = np.ravel(Gaussian_preds_y)\n",
    "\n",
    "print('------------------------- SVM Polynomial with PCA----------------------------------------------')\n",
    "pca_p_accuracy = np.mean(Poly_preds_y == vals_y)\n",
    "print(\"Accuracy : \" + str(pca_p_accuracy))\n",
    "\n",
    "# preds_ty = np.ravel(SVM1.predict(test_x))\n",
    "# test_accuracy = np.mean(preds_ty == test_y)\n",
    "# print(\"SVM test accuracy : \" + str(test_accuracy))\n",
    "\n",
    "print('--------------------------SVM Gaussian with PCA-------------------------------------------------')\n",
    "pca_g_accuracy = np.mean(Gaussian_preds_y == vals_y)\n",
    "print(\"Accuracy : \" + str(pca_g_accuracy))\n",
    "\n",
    "# preds_ty = np.ravel(SVM2.predict(test_x))\n",
    "# test_accuracy = np.mean(preds_ty == test_y)\n",
    "# print(\"SVM test accuracy : \" + str(test_accuracy))"
   ]
  }
 ],
 "metadata": {
  "kernelspec": {
   "display_name": "Python 3",
   "language": "python",
   "name": "python3"
  },
  "language_info": {
   "codemirror_mode": {
    "name": "ipython",
    "version": 3
   },
   "file_extension": ".py",
   "mimetype": "text/x-python",
   "name": "python",
   "nbconvert_exporter": "python",
   "pygments_lexer": "ipython3",
   "version": "3.6.2"
  }
 },
 "nbformat": 4,
 "nbformat_minor": 2
}
