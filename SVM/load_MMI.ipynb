{
 "cells": [
  {
   "cell_type": "code",
   "execution_count": 2,
   "metadata": {
    "collapsed": true
   },
   "outputs": [],
   "source": [
    "import numpy as np\n",
    "import pandas as pd\n",
    "import os"
   ]
  },
  {
   "cell_type": "code",
   "execution_count": 12,
   "metadata": {},
   "outputs": [],
   "source": [
    "def mmi():\n",
    "    \"\"\"\n",
    "    Load mmi data\n",
    "    \"\"\"\n",
    "\n",
    "    data = pd.read_csv('../Dataset/MMI_OHE.csv')\n",
    "    train_y = []\n",
    "    train_x = []\n",
    "   \n",
    "    train_X = data.iloc[:, 1:]\n",
    "    train_Y = data[:][['Emotion']]\n",
    "\n",
    "    train_x = np.asarray(train_X)\n",
    "    train_y = np.asarray(train_Y)\n",
    "    del(train_X)\n",
    "    del(train_Y)\n",
    "    \n",
    "    return (train_x, train_y)"
   ]
  },
  {
   "cell_type": "code",
   "execution_count": 13,
   "metadata": {},
   "outputs": [],
   "source": [
    "t1,t2 = mmi()"
   ]
  }
 ],
 "metadata": {
  "kernelspec": {
   "display_name": "Python 3",
   "language": "python",
   "name": "python3"
  },
  "language_info": {
   "codemirror_mode": {
    "name": "ipython",
    "version": 3
   },
   "file_extension": ".py",
   "mimetype": "text/x-python",
   "name": "python",
   "nbconvert_exporter": "python",
   "pygments_lexer": "ipython3",
   "version": "3.6.2"
  }
 },
 "nbformat": 4,
 "nbformat_minor": 2
}
